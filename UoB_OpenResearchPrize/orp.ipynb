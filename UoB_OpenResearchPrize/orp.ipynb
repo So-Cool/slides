{
 "cells": [
  {
   "cell_type": "code",
   "execution_count": 1,
   "metadata": {
    "slideshow": {
     "slide_type": "skip"
    }
   },
   "outputs": [
    {
     "data": {
      "text/html": [
       "<script>\n",
       "    // AUTORUN ALL CELLS ON NOTEBOOK-LOAD!\n",
       "    require(\n",
       "        ['base/js/namespace', 'jquery'], \n",
       "        function(jupyter, $) {\n",
       "            $(jupyter.events).on(\"kernel_ready.Kernel\", function () {\n",
       "                console.log(\"Auto-running all cells-below...\");\n",
       "                jupyter.actions.call('jupyter-notebook:run-all-cells-below');\n",
       "                jupyter.actions.call('jupyter-notebook:save-notebook');\n",
       "            });\n",
       "        }\n",
       "    );\n",
       "</script>\n"
      ],
      "text/plain": [
       "<IPython.core.display.HTML object>"
      ]
     },
     "metadata": {},
     "output_type": "display_data"
    }
   ],
   "source": [
    "%%html\n",
    "<script>\n",
    "    // AUTORUN ALL CELLS ON NOTEBOOK-LOAD!\n",
    "    require(\n",
    "        ['base/js/namespace', 'jquery'], \n",
    "        function(jupyter, $) {\n",
    "            $(jupyter.events).on(\"kernel_ready.Kernel\", function () {\n",
    "                console.log(\"Auto-running all cells-below...\");\n",
    "                jupyter.actions.call('jupyter-notebook:run-all-cells-below');\n",
    "                jupyter.actions.call('jupyter-notebook:save-notebook');\n",
    "            });\n",
    "        }\n",
    "    );\n",
    "</script>"
   ]
  },
  {
   "cell_type": "markdown",
   "metadata": {
    "slideshow": {
     "slide_type": "slide"
    }
   },
   "source": [
    "<h1 style=\"text-align: center\">Reaching and Engaging Diverse Audiences</h1>\n",
    "<h2 style=\"text-align: center\"> Through Transparent, Interactive, Reproducible <br/> and Exploratory Research Outputs</h2>\n",
    "<br><br><br>\n",
    "<img width=\"25%\" style=\"vertical-align:bottom; float:left;\" src=\"fig/uob.svg\">\n",
    "<p style=\"vertical-align:bottom; float:right; font-size: 120%;\"><b>Kacper Sokol</b></p>"
   ]
  },
  {
   "cell_type": "code",
   "execution_count": 2,
   "metadata": {
    "slideshow": {
     "slide_type": "skip"
    }
   },
   "outputs": [],
   "source": [
    "# requires `ipympl` module\n",
    "%matplotlib widget\n",
    "import ipywidgets as widgets\n",
    "import numpy as np\n",
    "from IPython.display import IFrame\n",
    "import matplotlib.pyplot as plt\n",
    "plt.style.use('seaborn')\n",
    "# %matplotlib inline"
   ]
  },
  {
   "cell_type": "code",
   "execution_count": 3,
   "metadata": {
    "slideshow": {
     "slide_type": "skip"
    }
   },
   "outputs": [],
   "source": [
    "SIMPLY_LOGICAL = 'https://too.simply-logical.space/src/text/2_part_ii/4.2.html'\n",
    "_JOSS = 'https://joss.theoj.org/papers/10.21105/joss.01904'\n",
    "_JOSS_REVIEW = 'https://github.com/openjournals/joss-reviews/issues/1904'\n",
    "_OPEN_REVIEW = 'https://openreview.net/forum?id=m5Qsh0kBQG'\n",
    "FATF_TUTORIAL = 'https://events.fat-forensics.org/2020_ecml-pkdd'\n",
    "FATF_NARRATIVE = 'https://fat-forensics.org/sphinx_gallery_auto/accountability/xmpl_accountability_predictions_density.html'\n",
    "BLIMEY = 'https://nbviewer.jupyter.org/github/so-cool/blimey/blob/master/HCML_2019/bLIMEy.ipynb'\n",
    "COLAB = 'https://colab.research.google.com/github/fat-forensics/events/blob/master/resources/2020_ecml-pkdd/notebooks/0-environment-test.ipynb'\n",
    "\n",
    "def preview_url(url):\n",
    "    return IFrame(url, width=1200, height=600)"
   ]
  },
  {
   "cell_type": "code",
   "execution_count": 4,
   "metadata": {
    "slideshow": {
     "slide_type": "skip"
    }
   },
   "outputs": [],
   "source": [
    "def interactive_plot():\n",
    "    # set up plot\n",
    "    fig, ax = plt.subplots(figsize=(10, 4))\n",
    "    fig.patch.set_alpha(0)\n",
    "    ax.set_ylim([-4, 4])\n",
    "    ax.grid(True)\n",
    "\n",
    "    # generate x values\n",
    "    x = np.linspace(0, 2 * np.pi, 100)\n",
    "\n",
    "\n",
    "    def my_sine(x, w, amp, phi):\n",
    "        \"\"\"\n",
    "        Return a sine for x with angular frequeny w and amplitude amp.\n",
    "        \"\"\"\n",
    "        return amp*np.sin(w * (x-phi))\n",
    "\n",
    "\n",
    "    @widgets.interact(w=(0, 10, 1), amp=(0, 4, .1), phi=(0, 2*np.pi+0.01, 0.01))\n",
    "    def update(w = 1.0, amp=1, phi=0):\n",
    "        \"\"\"Remove old lines from plot and plot new one\"\"\"\n",
    "        [l.remove() for l in ax.lines]\n",
    "        ax.plot(x, my_sine(x, w, amp, phi), color='C0')"
   ]
  },
  {
   "cell_type": "markdown",
   "metadata": {
    "slideshow": {
     "slide_type": "slide"
    }
   },
   "source": [
    "<h2 style=\"text-align: center\">Transparent</h2>"
   ]
  },
  {
   "cell_type": "markdown",
   "metadata": {
    "slideshow": {
     "slide_type": "skip"
    }
   },
   "source": [
    "### Standard Open Research Practice ###\n",
    "* Pre-print (arXiv)\n",
    "* Releasing code (GitHub & Bitbucket) and data (Figshare)\n",
    "  - Permissive open source licences\n",
    "* Open-access journals\n",
    "* Publishing talk recordings (YouTube), slides and posters (personal web pages)\n",
    "  - Creative Commons licence"
   ]
  },
  {
   "cell_type": "markdown",
   "metadata": {
    "slideshow": {
     "slide_type": "subslide"
    }
   },
   "source": [
    "### Open Journals: The Journal of Open Source Software ###\n",
    "<img width=\"90%\" align=\"middle\" src=\"fig/JOSS.png\" alt=\"surrogate\" style=\"display: block; margin-left: auto; margin-right: auto;\">"
   ]
  },
  {
   "cell_type": "markdown",
   "metadata": {
    "slideshow": {
     "slide_type": "subslide"
    }
   },
   "source": [
    "### Open Journals: The Journal of Open Source Software ###\n",
    "<img width=\"90%\" align=\"middle\" src=\"fig/JOSS_REVIEW.png\" alt=\"surrogate\" style=\"display: block; margin-left: auto; margin-right: auto;\">"
   ]
  },
  {
   "cell_type": "markdown",
   "metadata": {
    "slideshow": {
     "slide_type": "subslide"
    }
   },
   "source": [
    "### OpenReview ###\n",
    "<img width=\"90%\" align=\"middle\" src=\"fig/OPEN_REVIEW.png\" alt=\"surrogate\" style=\"display: block; margin-left: auto; margin-right: auto;\">"
   ]
  },
  {
   "cell_type": "markdown",
   "metadata": {
    "slideshow": {
     "slide_type": "slide"
    }
   },
   "source": [
    "<h2 style=\"text-align: center\">Reproducible</h2>"
   ]
  },
  {
   "cell_type": "markdown",
   "metadata": {
    "slideshow": {
     "slide_type": "subslide"
    }
   },
   "source": [
    "### Computational Narrative ###"
   ]
  },
  {
   "cell_type": "code",
   "execution_count": 5,
   "metadata": {},
   "outputs": [
    {
     "data": {
      "text/html": [
       "\n",
       "        <iframe\n",
       "            width=\"1200\"\n",
       "            height=\"600\"\n",
       "            src=\"https://fat-forensics.org/sphinx_gallery_auto/accountability/xmpl_accountability_predictions_density.html\"\n",
       "            frameborder=\"0\"\n",
       "            allowfullscreen\n",
       "        ></iframe>\n",
       "        "
      ],
      "text/plain": [
       "<IPython.lib.display.IFrame at 0x116d64d68>"
      ]
     },
     "execution_count": 5,
     "metadata": {},
     "output_type": "execute_result"
    }
   ],
   "source": [
    "preview_url(FATF_NARRATIVE)"
   ]
  },
  {
   "cell_type": "markdown",
   "metadata": {
    "slideshow": {
     "slide_type": "subslide"
    }
   },
   "source": [
    "### Reproducible Experiments ###"
   ]
  },
  {
   "cell_type": "code",
   "execution_count": 6,
   "metadata": {},
   "outputs": [
    {
     "data": {
      "text/html": [
       "\n",
       "        <iframe\n",
       "            width=\"1200\"\n",
       "            height=\"600\"\n",
       "            src=\"https://nbviewer.jupyter.org/github/so-cool/blimey/blob/master/HCML_2019/bLIMEy.ipynb\"\n",
       "            frameborder=\"0\"\n",
       "            allowfullscreen\n",
       "        ></iframe>\n",
       "        "
      ],
      "text/plain": [
       "<IPython.lib.display.IFrame at 0x116d64eb8>"
      ]
     },
     "execution_count": 6,
     "metadata": {},
     "output_type": "execute_result"
    }
   ],
   "source": [
    "preview_url(BLIMEY)"
   ]
  },
  {
   "cell_type": "markdown",
   "metadata": {
    "slideshow": {
     "slide_type": "slide"
    }
   },
   "source": [
    "<h2 style=\"text-align: center\">Interactive</h2>"
   ]
  },
  {
   "cell_type": "markdown",
   "metadata": {
    "slideshow": {
     "slide_type": "subslide"
    }
   },
   "source": [
    "<img width=\"25%\" style=\"vertical-align:top; float:right;\" src=\"fig/2020ecmlpkdd.png\">\n",
    "<h3>ECML-PKDD 2020 Hands-on Tutorial</h3>"
   ]
  },
  {
   "cell_type": "code",
   "execution_count": 7,
   "metadata": {},
   "outputs": [
    {
     "data": {
      "text/html": [
       "\n",
       "        <iframe\n",
       "            width=\"1200\"\n",
       "            height=\"600\"\n",
       "            src=\"https://events.fat-forensics.org/2020_ecml-pkdd\"\n",
       "            frameborder=\"0\"\n",
       "            allowfullscreen\n",
       "        ></iframe>\n",
       "        "
      ],
      "text/plain": [
       "<IPython.lib.display.IFrame at 0x116d853c8>"
      ]
     },
     "execution_count": 7,
     "metadata": {},
     "output_type": "execute_result"
    }
   ],
   "source": [
    "preview_url(FATF_TUTORIAL)"
   ]
  },
  {
   "cell_type": "markdown",
   "metadata": {
    "slideshow": {
     "slide_type": "subslide"
    }
   },
   "source": [
    "### Executing Computational Narrative (and Code) in the Browser ###\n",
    "<!--\n",
    "* Google Colab\n",
    "* MyBinder\n",
    "-->\n",
    "<div style=\"display: block; margin-left: auto; margin-right: auto; width: 100%;\">\n",
    "  <div style=\"float: left; width: 45%;\">\n",
    "    <img src=\"fig/COLAB.png\" style=\"width:100% margin-left: auto; margin-right: auto;\">\n",
    "  </div>\n",
    "  <div style=\"float: right; width: 45%;\">\n",
    "    <img src=\"fig/MYBINDER.png\" style=\"width:100% margin-left: auto; margin-right: auto;\">\n",
    "  </div>\n",
    "</div>\n",
    "\n",
    "<!--\n",
    "<img width=\"45%\" align=\"middle\" src=\"COLAB.png\" alt=\"surrogate\" style=\"display: block; margin-left: auto; margin-right: auto;\">\n",
    "<img width=\"45%\" align=\"middle\" src=\"MYBINDER.png\" alt=\"surrogate\" style=\"display: block; margin-left: auto; margin-right: auto;\">\n",
    "-->"
   ]
  },
  {
   "cell_type": "markdown",
   "metadata": {
    "slideshow": {
     "slide_type": "slide"
    }
   },
   "source": [
    "<h2 style=\"text-align: center\">Exploratory</h2>"
   ]
  },
  {
   "cell_type": "markdown",
   "metadata": {
    "slideshow": {
     "slide_type": "subslide"
    }
   },
   "source": [
    "### Multiple Entry Points: Interactive Online Document/Book ###"
   ]
  },
  {
   "cell_type": "code",
   "execution_count": 8,
   "metadata": {
    "slideshow": {
     "slide_type": "-"
    }
   },
   "outputs": [
    {
     "data": {
      "text/html": [
       "\n",
       "        <iframe\n",
       "            width=\"1200\"\n",
       "            height=\"600\"\n",
       "            src=\"https://too.simply-logical.space/src/text/2_part_ii/4.2.html\"\n",
       "            frameborder=\"0\"\n",
       "            allowfullscreen\n",
       "        ></iframe>\n",
       "        "
      ],
      "text/plain": [
       "<IPython.lib.display.IFrame at 0x116d851d0>"
      ]
     },
     "execution_count": 8,
     "metadata": {},
     "output_type": "execute_result"
    }
   ],
   "source": [
    "preview_url(SIMPLY_LOGICAL)"
   ]
  },
  {
   "cell_type": "markdown",
   "metadata": {
    "slideshow": {
     "slide_type": "subslide"
    }
   },
   "source": [
    "### Multiple Entry Points: Interactive Online Slides ###"
   ]
  },
  {
   "cell_type": "code",
   "execution_count": 9,
   "metadata": {},
   "outputs": [
    {
     "data": {
      "application/vnd.jupyter.widget-view+json": {
       "model_id": "a2ad85502ead4074a4932e69c3ce5706",
       "version_major": 2,
       "version_minor": 0
      },
      "text/plain": [
       "Canvas(toolbar=Toolbar(toolitems=[('Home', 'Reset original view', 'home', 'home'), ('Back', 'Back to previous …"
      ]
     },
     "metadata": {},
     "output_type": "display_data"
    },
    {
     "data": {
      "application/vnd.jupyter.widget-view+json": {
       "model_id": "e31c179c97fa47eaaec49fac4b8ea9f5",
       "version_major": 2,
       "version_minor": 0
      },
      "text/plain": [
       "interactive(children=(IntSlider(value=1, description='w', max=10), FloatSlider(value=1.0, description='amp', m…"
      ]
     },
     "metadata": {},
     "output_type": "display_data"
    }
   ],
   "source": [
    "interactive_plot()"
   ]
  },
  {
   "cell_type": "markdown",
   "metadata": {
    "slideshow": {
     "slide_type": "subslide"
    }
   },
   "source": [
    "### Multiple Entry Points – Single Source ###\n",
    "<!--### Multiple Entry Points: Interactive Online Computational Narrative ###-->\n",
    "<!--Online execution environments-->\n",
    "\n",
    "MyST Markdown →\n",
    "  * Jupyter Notebook – computational narrative\n",
    "    - Google Colab\n",
    "    - MyBinder\n",
    "  * Reveal.JS – interactive slides\n",
    "  * Jupyter Book – interactive report/document/book"
   ]
  },
  {
   "cell_type": "markdown",
   "metadata": {
    "slideshow": {
     "slide_type": "subslide"
    }
   },
   "source": [
    "<img width=\"20%\" style=\"vertical-align:top; float:right;\" src=\"fig/turing.png\">\n",
    "<h3>Self-paced Online Learning</h3>\n",
    "<br><br>\n",
    "\n",
    "* Interactive online training resources on *interpretability*, *explainability* and *transparency*\n",
    "* Built upon the tools and techniques described in this talk\n",
    "* To be published in *October 2021*"
   ]
  },
  {
   "cell_type": "markdown",
   "metadata": {
    "slideshow": {
     "slide_type": "slide"
    }
   },
   "source": [
    "<h2 style=\"text-align: center; vertical-align: center;\">Questions?</h2>\n",
    "<br><br><br>\n",
    "<p style=\"text-align: right; vertical-align:bottom; float:right; font-size: 100%;\"><a href=\"K.Sokol@bristol.ac.uk\">K.Sokol@bristol.ac.uk</a></p>"
   ]
  },
  {
   "cell_type": "code",
   "execution_count": null,
   "metadata": {
    "slideshow": {
     "slide_type": "skip"
    }
   },
   "outputs": [],
   "source": []
  }
 ],
 "metadata": {
  "celltoolbar": "Slideshow",
  "kernelspec": {
   "display_name": "Python 3",
   "language": "python",
   "name": "python3"
  },
  "language_info": {
   "codemirror_mode": {
    "name": "ipython",
    "version": 3
   },
   "file_extension": ".py",
   "mimetype": "text/x-python",
   "name": "python",
   "nbconvert_exporter": "python",
   "pygments_lexer": "ipython3",
   "version": "3.7.2"
  },
  "nteract": {
   "version": "0.12.3"
  },
  "rise": {
   "autolaunch": true,
   "theme": "solarized"
  }
 },
 "nbformat": 4,
 "nbformat_minor": 2
}
